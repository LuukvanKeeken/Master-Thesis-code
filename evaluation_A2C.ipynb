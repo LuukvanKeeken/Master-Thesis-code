{
 "cells": [
  {
   "cell_type": "code",
   "execution_count": 19,
   "metadata": {},
   "outputs": [],
   "source": [
    "import numpy as np\n",
    "import torch\n",
    "import torch.optim as optim\n",
    "import gym\n",
    "import matplotlib.pyplot as plt\n",
    "\n",
    "\n",
    "import site\n",
    "site.addsitedir('../src/')\n",
    "\n",
    "from backpropamine_A2C import BP_RNetwork, Standard_RNetwork\n",
    "from BP_A2C.BP_A2C_agent import evaluate_BP_agent\n",
    "\n",
    "%matplotlib inline"
   ]
  },
  {
   "cell_type": "code",
   "execution_count": 20,
   "metadata": {},
   "outputs": [],
   "source": [
    "device = torch.device(\"cuda:0\" if torch.cuda.is_available() else \"cpu\")\n",
    "dtype = torch.float"
   ]
  },
  {
   "cell_type": "code",
   "execution_count": 21,
   "metadata": {},
   "outputs": [],
   "source": [
    "# Environment specific parameters\n",
    "env_name = 'CartPole-v0'\n",
    "max_reward = 200\n",
    "max_steps = 200\n",
    "\n",
    "n_evaluations = 100"
   ]
  },
  {
   "cell_type": "code",
   "execution_count": 22,
   "metadata": {},
   "outputs": [],
   "source": [
    "evaluation_seeds = np.load('rstdp_cartpole_stuff/seeds/evaluation_seeds.npy')"
   ]
  },
  {
   "cell_type": "code",
   "execution_count": 23,
   "metadata": {},
   "outputs": [],
   "source": [
    "# Load pre-trained model weights\n",
    "weights_0 = torch.load('BP_A2C/results/FIRST5_a2c_result_2_20231014_entropycoef_0.03_valuepredcoef_0.1_batchsize_128_maxsteps_200_maxgradnorm_4.0_gammaR_0.99_l2coef_0_learningrate_0.0001_numtrainepisodes_3000_selectionmethod_evaluation/checkpoint_BP_A2C_0.pt', map_location=torch.device(device))\n",
    "weights_1 = torch.load('BP_A2C/results/FIRST5_a2c_result_2_20231014_entropycoef_0.03_valuepredcoef_0.1_batchsize_128_maxsteps_200_maxgradnorm_4.0_gammaR_0.99_l2coef_0_learningrate_0.0001_numtrainepisodes_3000_selectionmethod_evaluation/checkpoint_BP_A2C_1.pt', map_location=torch.device(device))\n",
    "weights_2 = torch.load('BP_A2C/results/FIRST5_a2c_result_2_20231014_entropycoef_0.03_valuepredcoef_0.1_batchsize_128_maxsteps_200_maxgradnorm_4.0_gammaR_0.99_l2coef_0_learningrate_0.0001_numtrainepisodes_3000_selectionmethod_evaluation/checkpoint_BP_A2C_2.pt', map_location=torch.device(device))\n",
    "weights_3 = torch.load('BP_A2C/results/FIRST5_a2c_result_2_20231014_entropycoef_0.03_valuepredcoef_0.1_batchsize_128_maxsteps_200_maxgradnorm_4.0_gammaR_0.99_l2coef_0_learningrate_0.0001_numtrainepisodes_3000_selectionmethod_evaluation/checkpoint_BP_A2C_3.pt', map_location=torch.device(device))\n",
    "weights_4 = torch.load('BP_A2C/results/FIRST5_a2c_result_2_20231014_entropycoef_0.03_valuepredcoef_0.1_batchsize_128_maxsteps_200_maxgradnorm_4.0_gammaR_0.99_l2coef_0_learningrate_0.0001_numtrainepisodes_3000_selectionmethod_evaluation/checkpoint_BP_A2C_4.pt', map_location=torch.device(device))\n",
    "weights_5 = torch.load('BP_A2C/results/OTHER5_a2c_result_13_20231016_entropycoef_0.03_valuepredcoef_0.1_batchsize_128_maxsteps_200_maxgradnorm_4.0_gammaR_0.99_l2coef_0_learningrate_0.0001_numtrainepisodes_3000_selectionmethod_evaluation/checkpoint_BP_A2C_0.pt', map_location=torch.device(device))\n",
    "weights_6 = torch.load('BP_A2C/results/OTHER5_a2c_result_13_20231016_entropycoef_0.03_valuepredcoef_0.1_batchsize_128_maxsteps_200_maxgradnorm_4.0_gammaR_0.99_l2coef_0_learningrate_0.0001_numtrainepisodes_3000_selectionmethod_evaluation/checkpoint_BP_A2C_1.pt', map_location=torch.device(device))\n",
    "weights_7 = torch.load('BP_A2C/results/OTHER5_a2c_result_13_20231016_entropycoef_0.03_valuepredcoef_0.1_batchsize_128_maxsteps_200_maxgradnorm_4.0_gammaR_0.99_l2coef_0_learningrate_0.0001_numtrainepisodes_3000_selectionmethod_evaluation/checkpoint_BP_A2C_2.pt', map_location=torch.device(device))\n",
    "weights_8 = torch.load('BP_A2C/results/OTHER5_a2c_result_13_20231016_entropycoef_0.03_valuepredcoef_0.1_batchsize_128_maxsteps_200_maxgradnorm_4.0_gammaR_0.99_l2coef_0_learningrate_0.0001_numtrainepisodes_3000_selectionmethod_evaluation/checkpoint_BP_A2C_3.pt', map_location=torch.device(device))\n",
    "weights_9 = torch.load('BP_A2C/results/OTHER5_a2c_result_13_20231016_entropycoef_0.03_valuepredcoef_0.1_batchsize_128_maxsteps_200_maxgradnorm_4.0_gammaR_0.99_l2coef_0_learningrate_0.0001_numtrainepisodes_3000_selectionmethod_evaluation/checkpoint_BP_A2C_4.pt', map_location=torch.device(device))\n",
    "weights = [weights_0, weights_1, weights_2, weights_3, weights_4, weights_5, weights_6, weights_7, weights_8, weights_9]\n"
   ]
  },
  {
   "cell_type": "code",
   "execution_count": 24,
   "metadata": {},
   "outputs": [],
   "source": [
    "# Helper for printing\n",
    "eraser = '\\b \\b'"
   ]
  },
  {
   "cell_type": "markdown",
   "metadata": {},
   "source": [
    "### Evaluate pre-trained BP models on original environment"
   ]
  },
  {
   "cell_type": "code",
   "execution_count": 25,
   "metadata": {},
   "outputs": [
    {
     "name": "stdout",
     "output_type": "stream",
     "text": [
      "Run 00 ..."
     ]
    },
    {
     "name": "stderr",
     "output_type": "stream",
     "text": [
      "/home/luuk/Desktop/testing/.venv/lib/python3.8/site-packages/gym/logger.py:30: UserWarning: \u001b[33mWARN: Box bound precision lowered by casting to float32\u001b[0m\n",
      "  warnings.warn(colorize('%s: %s'%('WARN', msg % args), 'yellow'))\n"
     ]
    },
    {
     "name": "stdout",
     "output_type": "stream",
     "text": [
      "\b-> Avg reward:  200.00\n",
      "Run 01 -> Avg reward:  200.00\n",
      "Run 02 -> Avg reward:  200.00\n",
      "Run 03 -> Avg reward:  200.00\n",
      "Run 04 -> Avg reward:  200.00\n",
      "Run 05 -> Avg reward:  200.00\n",
      "Run 06 -> Avg reward:  200.00\n",
      "Run 07 -> Avg reward:  200.00\n",
      "Run 08 -> Avg reward:  200.00\n",
      "Run 09 -> Avg reward:  200.00\n",
      "Mean avg reward: 200.0\n"
     ]
    }
   ],
   "source": [
    "original_eval_rewards = []\n",
    "\n",
    "for i, w in enumerate(weights):\n",
    "    print('Run {:02d} ...'.format(i), end='')\n",
    "    agent_net = BP_RNetwork(4, 64, 2, 5).to(device)\n",
    "    agent_net.loadWeights(w)\n",
    "\n",
    "    rewards = evaluate_BP_agent(agent_net, env_name, n_evaluations, evaluation_seeds, 1.0)\n",
    "    original_eval_rewards.append(rewards)\n",
    "    \n",
    "    print(eraser*3 + '-> Avg reward: {:7.2f}'.format(np.mean(rewards)))\n",
    "\n",
    "print(f\"Mean avg reward: {np.mean(original_eval_rewards)}\")"
   ]
  },
  {
   "cell_type": "markdown",
   "metadata": {},
   "source": [
    "### Evaluate pre-trained BP models on modified environments"
   ]
  },
  {
   "cell_type": "code",
   "execution_count": 27,
   "metadata": {},
   "outputs": [
    {
     "name": "stdout",
     "output_type": "stream",
     "text": [
      "1.1\n",
      "Run 00 ..."
     ]
    },
    {
     "name": "stderr",
     "output_type": "stream",
     "text": [
      "/home/luuk/Desktop/testing/.venv/lib/python3.8/site-packages/gym/logger.py:30: UserWarning: \u001b[33mWARN: Box bound precision lowered by casting to float32\u001b[0m\n",
      "  warnings.warn(colorize('%s: %s'%('WARN', msg % args), 'yellow'))\n"
     ]
    },
    {
     "name": "stdout",
     "output_type": "stream",
     "text": [
      "\b-> Avg reward:  200.00\n",
      "Run 01 -> Avg reward:  200.00\n",
      "Run 02 -> Avg reward:  199.98\n",
      "Run 03 -> Avg reward:  200.00\n",
      "Run 04 -> Avg reward:  200.00\n",
      "Run 05 -> Avg reward:  200.00\n",
      "Run 06 -> Avg reward:  200.00\n",
      "Run 07 -> Avg reward:  200.00\n",
      "Run 08 -> Avg reward:  200.00\n",
      "Run 09 -> Avg reward:  200.00\n",
      "1.2000000000000002\n",
      "Run 00 -> Avg reward:  200.00\n",
      "Run 01 -> Avg reward:  200.00\n",
      "Run 02 -> Avg reward:  200.00\n",
      "Run 03 -> Avg reward:  200.00\n",
      "Run 04 -> Avg reward:  200.00\n",
      "Run 05 -> Avg reward:  200.00\n",
      "Run 06 -> Avg reward:  199.91\n",
      "Run 07 -> Avg reward:  200.00\n",
      "Run 08 -> Avg reward:  200.00\n",
      "Run 09 -> Avg reward:  200.00\n",
      "1.3\n",
      "Run 00 -> Avg reward:  200.00\n",
      "Run 01 -> Avg reward:  200.00\n",
      "Run 02 -> Avg reward:  200.00\n",
      "Run 03 -> Avg reward:  200.00\n",
      "Run 04 -> Avg reward:  200.00\n",
      "Run 05 -> Avg reward:  200.00\n",
      "Run 06 -> Avg reward:  199.74\n",
      "Run 07 -> Avg reward:  200.00\n",
      "Run 08 -> Avg reward:  200.00\n",
      "Run 09 -> Avg reward:  200.00\n",
      "1.4000000000000001\n",
      "Run 00 -> Avg reward:  200.00\n",
      "Run 01 -> Avg reward:  200.00\n",
      "Run 02 -> Avg reward:  200.00\n",
      "Run 03 -> Avg reward:  200.00\n",
      "Run 04 -> Avg reward:  200.00\n",
      "Run 05 -> Avg reward:  200.00\n",
      "Run 06 -> Avg reward:  199.53\n",
      "Run 07 -> Avg reward:  200.00\n",
      "Run 08 -> Avg reward:  200.00\n",
      "Run 09 -> Avg reward:  200.00\n",
      "1.5\n",
      "Run 00 -> Avg reward:  200.00\n",
      "Run 01 -> Avg reward:  200.00\n",
      "Run 02 -> Avg reward:  200.00\n",
      "Run 03 -> Avg reward:  200.00\n",
      "Run 04 -> Avg reward:  198.22\n",
      "Run 05 -> Avg reward:  200.00\n",
      "Run 06 -> Avg reward:  199.11\n",
      "Run 07 -> Avg reward:  200.00\n",
      "Run 08 -> Avg reward:  200.00\n",
      "Run 09 -> Avg reward:  200.00\n",
      "1.6\n",
      "Run 00 -> Avg reward:  200.00\n",
      "Run 01 -> Avg reward:  200.00\n",
      "Run 02 -> Avg reward:  200.00\n",
      "Run 03 -> Avg reward:  200.00\n",
      "Run 04 -> Avg reward:  153.30\n",
      "Run 05 -> Avg reward:  200.00\n",
      "Run 06 -> Avg reward:  198.98\n",
      "Run 07 -> Avg reward:  200.00\n",
      "Run 08 -> Avg reward:  200.00\n",
      "Run 09 -> Avg reward:  200.00\n",
      "1.7000000000000002\n",
      "Run 00 -> Avg reward:  200.00\n",
      "Run 01 -> Avg reward:  200.00\n",
      "Run 02 -> Avg reward:  200.00\n",
      "Run 03 -> Avg reward:  200.00\n",
      "Run 04 -> Avg reward:   30.20\n",
      "Run 05 -> Avg reward:  200.00\n",
      "Run 06 -> Avg reward:  198.79\n",
      "Run 07 -> Avg reward:  200.00\n",
      "Run 08 -> Avg reward:  200.00\n",
      "Run 09 -> Avg reward:  200.00\n",
      "1.8\n",
      "Run 00 -> Avg reward:  200.00\n",
      "Run 01 -> Avg reward:  200.00\n",
      "Run 02 -> Avg reward:  200.00\n",
      "Run 03 -> Avg reward:  200.00\n",
      "Run 04 -> Avg reward:   21.26\n",
      "Run 05 -> Avg reward:  200.00\n",
      "Run 06 -> Avg reward:  198.43\n",
      "Run 07 -> Avg reward:  200.00\n",
      "Run 08 -> Avg reward:  200.00\n",
      "Run 09 -> Avg reward:  200.00\n",
      "1.9\n",
      "Run 00 -> Avg reward:  200.00\n",
      "Run 01 -> Avg reward:  200.00\n",
      "Run 02 -> Avg reward:  200.00\n",
      "Run 03 -> Avg reward:  200.00\n",
      "Run 04 -> Avg reward:   21.47\n",
      "Run 05 -> Avg reward:  200.00\n",
      "Run 06 -> Avg reward:  198.61\n",
      "Run 07 -> Avg reward:  200.00\n",
      "Run 08 -> Avg reward:  200.00\n",
      "Run 09 -> Avg reward:  200.00\n",
      "2.0\n",
      "Run 00 -> Avg reward:  200.00\n",
      "Run 01 -> Avg reward:  200.00\n",
      "Run 02 -> Avg reward:  200.00\n",
      "Run 03 -> Avg reward:  200.00\n",
      "Run 04 -> Avg reward:   20.38\n",
      "Run 05 -> Avg reward:  200.00\n",
      "Run 06 -> Avg reward:  198.55\n",
      "Run 07 -> Avg reward:  200.00\n",
      "Run 08 -> Avg reward:  200.00\n",
      "Run 09 -> Avg reward:  200.00\n"
     ]
    }
   ],
   "source": [
    "percentages = np.linspace(1.1, 2.0, 10)\n",
    "all_modified_env_eval_rewards = []\n",
    "for percentage in percentages:\n",
    "    print(percentage)\n",
    "    modified_env_eval_rewards = []\n",
    "\n",
    "    for i, w in enumerate(weights):\n",
    "        print('Run {:02d} ...'.format(i), end='')\n",
    "        policy_net = BP_RNetwork(4, 64, 2, 5).to(device)\n",
    "        policy_net.loadWeights(w)\n",
    "\n",
    "        rewards = evaluate_BP_agent(policy_net, env_name, n_evaluations, evaluation_seeds, percentage)\n",
    "        modified_env_eval_rewards.append(rewards)\n",
    "        \n",
    "        print(eraser*3 + '-> Avg reward: {:7.2f}'.format(np.mean(rewards)))\n",
    "\n",
    "    all_modified_env_eval_rewards.append(modified_env_eval_rewards)\n"
   ]
  },
  {
   "cell_type": "code",
   "execution_count": 33,
   "metadata": {},
   "outputs": [
    {
     "name": "stdout",
     "output_type": "stream",
     "text": [
      "199.998\n",
      "199.991\n",
      "199.974\n",
      "199.953\n",
      "199.733\n",
      "195.228\n",
      "182.899\n",
      "181.969\n",
      "182.008\n",
      "181.893\n"
     ]
    }
   ],
   "source": [
    "mean_avgs = []\n",
    "std_dev_avgs = []\n",
    "for results in all_modified_env_eval_rewards:\n",
    "    mean_avgs.append(np.mean(results))\n",
    "    std_dev_avgs.append(np.std(results))\n",
    "    print(np.mean(results))"
   ]
  },
  {
   "cell_type": "code",
   "execution_count": 35,
   "metadata": {},
   "outputs": [
    {
     "data": {
      "text/plain": [
       "Text(0.5, 1.0, 'Average reward (over 100 episodes and 10 models) BP A2C RNN')"
      ]
     },
     "execution_count": 35,
     "metadata": {},
     "output_type": "execute_result"
    },
    {
     "data": {
      "image/png": "[encoded data removed]",
      "text/plain": [
       "<Figure size 640x480 with 1 Axes>"
      ]
     },
     "metadata": {},
     "output_type": "display_data"
    }
   ],
   "source": [
    "fig = plt.figure()\n",
    "percentages = np.linspace(10, 100, 10)\n",
    "plt.plot(percentages, mean_avgs)\n",
    "plt.errorbar(percentages, mean_avgs, std_dev_avgs, capsize=5)\n",
    "plt.ylim(0, 250)\n",
    "plt.grid(True)\n",
    "plt.xlabel(\"Pole length increase (%)\")\n",
    "plt.xticks(percentages)\n",
    "plt.ylabel(\"Average reward\")\n",
    "plt.title(\"Average reward (over 100 episodes and 10 models) BP A2C RNN\")\n",
    "# plt.savefig(\"figs/BP_A2C_RNN_5models_evaluation.png\", dpi=300)"
   ]
  }
 ],
 "metadata": {
  "kernelspec": {
   "display_name": ".venv",
   "language": "python",
   "name": "python3"
  },
  "language_info": {
   "codemirror_mode": {
    "name": "ipython",
    "version": 3
   },
   "file_extension": ".py",
   "mimetype": "text/x-python",
   "name": "python",
   "nbconvert_exporter": "python",
   "pygments_lexer": "ipython3",
   "version": "3.8.10"
  }
 },
 "nbformat": 4,
 "nbformat_minor": 2
}
