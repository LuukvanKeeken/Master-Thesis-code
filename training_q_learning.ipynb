{
 "cells": [
  {
   "cell_type": "markdown",
   "metadata": {},
   "source": [
    "Adapted from the code for \"Fine-tuning Deep Reinforcement Learning Policies with r-STDP for Domain Adaptation\" by Akl et al., which can be found at https://github.com/mahmoudakl/dsrl/"
   ]
  },
  {
   "cell_type": "markdown",
   "metadata": {},
   "source": [
    "# DQN vs. DSQN for the CartPole Environment"
   ]
  },
  {
   "cell_type": "code",
   "execution_count": 1,
   "metadata": {},
   "outputs": [],
   "source": [
    "%load_ext autoreload\n",
    "%autoreload 2"
   ]
  },
  {
   "cell_type": "code",
   "execution_count": 2,
   "metadata": {},
   "outputs": [],
   "source": [
    "import os\n",
    "import gym\n",
    "import site\n",
    "import torch\n",
    "import random\n",
    "\n",
    "import numpy as np\n",
    "import torch.optim as optim\n",
    "import matplotlib.pyplot as plt\n",
    "\n",
    "site.addsitedir('cartpole_stuff/src/')\n",
    "\n",
    "\n",
    "from datetime import date\n",
    "# This is needed for some reason\n",
    "from rstdp_cartpole_stuff.src.model import QNetwork, DSNN\n",
    "from rstdp_cartpole_stuff.src.dqn_agent import Agent, ReplayBuffer\n",
    "from matplotlib.gridspec import GridSpec\n",
    "\n",
    "from backpropamine_DQN import BP_RNetwork, Standard_RNetwork\n",
    "\n",
    "%matplotlib inline"
   ]
  },
  {
   "cell_type": "code",
   "execution_count": 3,
   "metadata": {},
   "outputs": [],
   "source": [
    "# Environment specific parameters\n",
    "env_name = 'CartPole-v0'\n",
    "n_runs = 5\n",
    "n_evaluations = 100\n",
    "max_steps = 200\n",
    "num_episodes = 1000\n",
    "\n",
    "device = torch.device(\"cuda:0\" if torch.cuda.is_available() else \"cpu\")"
   ]
  },
  {
   "cell_type": "code",
   "execution_count": 4,
   "metadata": {},
   "outputs": [
    {
     "name": "stdout",
     "output_type": "stream",
     "text": [
      "Created Directory dqn_result_9_20231012 to store the results in\n"
     ]
    }
   ],
   "source": [
    "# Create Results Directory\n",
    "dirs = os.listdir('.')\n",
    "if not any('result' in d for d in dirs):\n",
    "    result_id = 1\n",
    "else:\n",
    "    results = [d for d in dirs if 'result' in d]\n",
    "    result_id = len(results) + 1\n",
    "\n",
    "# Get today's date and add it to the results directory\n",
    "d = date.today()\n",
    "result_dir = 'dqn_result_' + str(result_id) + '_{}'.format(\n",
    "    str(d.year) + str(d.month) + str(d.day))\n",
    "os.mkdir(result_dir)\n",
    "print('Created Directory {} to store the results in'.format(result_dir))"
   ]
  },
  {
   "cell_type": "code",
   "execution_count": 5,
   "metadata": {},
   "outputs": [],
   "source": [
    "# Hyperparameters\n",
    "batch_size = 128\n",
    "discount_factor = 0.999\n",
    "eps_start = 1.0\n",
    "eps_end = 0.05\n",
    "eps_decay = 0.999\n",
    "update_every = 4\n",
    "target_update_frequency = 100\n",
    "learning_rate = 0.001 # lr is 0.0001 for simple maze as default\n",
    "l2_coef = 0 # 0 is default in simple maze task\n",
    "replay_memory_size = 4*10**4\n",
    "tau = 1e-3"
   ]
  },
  {
   "cell_type": "code",
   "execution_count": 6,
   "metadata": {},
   "outputs": [],
   "source": [
    "# SNN Hyperparameters\n",
    "simulation_time = 3\n",
    "alpha = 0.5\n",
    "beta = 0.5\n",
    "threshold = 0.2\n",
    "weight_scale = 1\n",
    "architecture = [4, 64, 64, 2]"
   ]
  },
  {
   "cell_type": "code",
   "execution_count": 7,
   "metadata": {},
   "outputs": [],
   "source": [
    "seeds = np.load('rstdp_cartpole_stuff/seeds/training_seeds.npy')"
   ]
  },
  {
   "cell_type": "markdown",
   "metadata": {},
   "source": [
    "## BP DQRNN training"
   ]
  },
  {
   "cell_type": "code",
   "execution_count": 8,
   "metadata": {
    "scrolled": true
   },
   "outputs": [
    {
     "name": "stdout",
     "output_type": "stream",
     "text": [
      "Run # 0\n",
      "<class 'torch.Tensor'>\n",
      "<class 'torch.Tensor'>\n"
     ]
    },
    {
     "name": "stderr",
     "output_type": "stream",
     "text": [
      "/home/luuk/Desktop/testing/.venv/lib/python3.8/site-packages/gym/logger.py:30: UserWarning: \u001b[33mWARN: Box bound precision lowered by casting to float32\u001b[0m\n",
      "  warnings.warn(colorize('%s: %s'%('WARN', msg % args), 'yellow'))\n"
     ]
    },
    {
     "ename": "ZeroDivisionError",
     "evalue": "division by zero",
     "output_type": "error",
     "traceback": [
      "\u001b[0;31m---------------------------------------------------------------------------\u001b[0m",
      "\u001b[0;31mZeroDivisionError\u001b[0m                         Traceback (most recent call last)",
      "\u001b[1;32m/home/luuk/Desktop/testing/training_q_learning.ipynb Cell 11\u001b[0m line \u001b[0;36m2\n\u001b[1;32m     <a href='vscode-notebook-cell:/home/luuk/Desktop/testing/training_q_learning.ipynb#X33sZmlsZQ%3D%3D?line=18'>19</a>\u001b[0m optimizer \u001b[39m=\u001b[39m optim\u001b[39m.\u001b[39mAdam(policy_net\u001b[39m.\u001b[39mparameters(), lr \u001b[39m=\u001b[39m learning_rate, weight_decay \u001b[39m=\u001b[39m l2_coef) \n\u001b[1;32m     <a href='vscode-notebook-cell:/home/luuk/Desktop/testing/training_q_learning.ipynb#X33sZmlsZQ%3D%3D?line=19'>20</a>\u001b[0m agent \u001b[39m=\u001b[39m Agent(env_name, policy_net, target_net, architecture, batch_size,\n\u001b[1;32m     <a href='vscode-notebook-cell:/home/luuk/Desktop/testing/training_q_learning.ipynb#X33sZmlsZQ%3D%3D?line=20'>21</a>\u001b[0m               replay_memory_size, discount_factor, eps_start, eps_end, eps_decay,\n\u001b[1;32m     <a href='vscode-notebook-cell:/home/luuk/Desktop/testing/training_q_learning.ipynb#X33sZmlsZQ%3D%3D?line=21'>22</a>\u001b[0m               update_every, target_update_frequency, optimizer, learning_rate,\n\u001b[1;32m     <a href='vscode-notebook-cell:/home/luuk/Desktop/testing/training_q_learning.ipynb#X33sZmlsZQ%3D%3D?line=22'>23</a>\u001b[0m               num_episodes, max_steps, i_run, result_dir, seed, tau)\n\u001b[0;32m---> <a href='vscode-notebook-cell:/home/luuk/Desktop/testing/training_q_learning.ipynb#X33sZmlsZQ%3D%3D?line=24'>25</a>\u001b[0m smoothed_scores, scores, best_average, best_average_after \u001b[39m=\u001b[39m agent\u001b[39m.\u001b[39;49mtrain_agent()\n\u001b[1;32m     <a href='vscode-notebook-cell:/home/luuk/Desktop/testing/training_q_learning.ipynb#X33sZmlsZQ%3D%3D?line=26'>27</a>\u001b[0m np\u001b[39m.\u001b[39msave(result_dir \u001b[39m+\u001b[39m \u001b[39m'\u001b[39m\u001b[39m/scores_\u001b[39m\u001b[39m{}\u001b[39;00m\u001b[39m'\u001b[39m\u001b[39m.\u001b[39mformat(i_run), scores)\n\u001b[1;32m     <a href='vscode-notebook-cell:/home/luuk/Desktop/testing/training_q_learning.ipynb#X33sZmlsZQ%3D%3D?line=27'>28</a>\u001b[0m np\u001b[39m.\u001b[39msave(result_dir \u001b[39m+\u001b[39m \u001b[39m'\u001b[39m\u001b[39m/smoothed_scores_DQN_\u001b[39m\u001b[39m{}\u001b[39;00m\u001b[39m'\u001b[39m\u001b[39m.\u001b[39mformat(i_run), smoothed_scores)\n",
      "File \u001b[0;32m~/Desktop/testing/rstdp_cartpole_stuff/src/dqn_agent.py:203\u001b[0m, in \u001b[0;36mAgent.train_agent\u001b[0;34m(self)\u001b[0m\n\u001b[1;32m    200\u001b[0m \u001b[39mwhile\u001b[39;00m \u001b[39mnot\u001b[39;00m done:\n\u001b[1;32m    201\u001b[0m     \u001b[39mself\u001b[39m\u001b[39m.\u001b[39mt_step_total \u001b[39m+\u001b[39m\u001b[39m=\u001b[39m \u001b[39m1\u001b[39m\n\u001b[0;32m--> 203\u001b[0m     action \u001b[39m=\u001b[39m \u001b[39mself\u001b[39;49m\u001b[39m.\u001b[39;49mselect_action(state, eps)\n\u001b[1;32m    205\u001b[0m     next_state, reward, done, _ \u001b[39m=\u001b[39m \u001b[39mself\u001b[39m\u001b[39m.\u001b[39menv\u001b[39m.\u001b[39mstep(action)\n\u001b[1;32m    206\u001b[0m     \u001b[39mif\u001b[39;00m \u001b[39mself\u001b[39m\u001b[39m.\u001b[39mtwo_neuron:\n",
      "File \u001b[0;32m~/Desktop/testing/rstdp_cartpole_stuff/src/dqn_agent.py:116\u001b[0m, in \u001b[0;36mAgent.select_action\u001b[0;34m(self, state, eps)\u001b[0m\n\u001b[1;32m    114\u001b[0m \u001b[39mprint\u001b[39m(\u001b[39mtype\u001b[39m(q_values[\u001b[39m0\u001b[39m]\u001b[39m.\u001b[39mcpu()\u001b[39m.\u001b[39mdata))\n\u001b[1;32m    115\u001b[0m \u001b[39mprint\u001b[39m(\u001b[39mtype\u001b[39m(q_values[\u001b[39m0\u001b[39m]\u001b[39m.\u001b[39mcpu()))\n\u001b[0;32m--> 116\u001b[0m \u001b[39mprint\u001b[39m(\u001b[39m0\u001b[39;49m\u001b[39m/\u001b[39;49m\u001b[39m0\u001b[39;49m)\n\u001b[1;32m    117\u001b[0m selected_action \u001b[39m=\u001b[39m np\u001b[39m.\u001b[39margmax(q_values[\u001b[39m0\u001b[39m]\u001b[39m.\u001b[39mcpu()\u001b[39m.\u001b[39mdata\u001b[39m.\u001b[39mnumpy())\n\u001b[1;32m    118\u001b[0m \u001b[39mself\u001b[39m\u001b[39m.\u001b[39mhidden_activations, \u001b[39mself\u001b[39m\u001b[39m.\u001b[39mhebbian_traces \u001b[39m=\u001b[39m hidden\n",
      "\u001b[0;31mZeroDivisionError\u001b[0m: division by zero"
     ]
    }
   ],
   "source": [
    "smoothed_scores_dqn_all = []\n",
    "dqn_completion_after = []\n",
    "\n",
    "for i_run in range(n_runs):\n",
    "    print(\"Run # {}\".format(i_run))\n",
    "    seed = int(seeds[i_run])\n",
    "    \n",
    "    torch.manual_seed(seed)\n",
    "    random.seed(seed)\n",
    "\n",
    "    # policy_net = QNetwork(architecture, seed).to(device)\n",
    "    # target_net = QNetwork(architecture, seed).to(device)\n",
    "    policy_net = BP_RNetwork(4, 64, 2, seed).to(device)\n",
    "    target_net = BP_RNetwork(4, 64, 2, seed).to(device)\n",
    "\n",
    "    target_net.load_state_dict(policy_net.state_dict())\n",
    "\n",
    "    # optimizer = optim.Adam(policy_net.parameters(), lr=learning_rate)\n",
    "    optimizer = optim.Adam(policy_net.parameters(), lr = learning_rate, weight_decay = l2_coef) \n",
    "    agent = Agent(env_name, policy_net, target_net, architecture, batch_size,\n",
    "                  replay_memory_size, discount_factor, eps_start, eps_end, eps_decay,\n",
    "                  update_every, target_update_frequency, optimizer, learning_rate,\n",
    "                  num_episodes, max_steps, i_run, result_dir, seed, tau)\n",
    "    \n",
    "    smoothed_scores, scores, best_average, best_average_after = agent.train_agent()\n",
    "\n",
    "    np.save(result_dir + '/scores_{}'.format(i_run), scores)\n",
    "    np.save(result_dir + '/smoothed_scores_DQN_{}'.format(i_run), smoothed_scores)\n",
    "\n",
    "    # save smoothed scores in list to plot later\n",
    "    dqn_completion_after.append(best_average_after)\n",
    "    smoothed_scores_dqn_all.append(smoothed_scores)\n",
    "    print(\"\")"
   ]
  },
  {
   "cell_type": "code",
   "execution_count": null,
   "metadata": {
    "scrolled": true
   },
   "outputs": [],
   "source": [
    "# Plot scores of individual runs\n",
    "for i in range(len(smoothed_scores_dqn_all)):\n",
    "    fig = plt.figure()\n",
    "    plt.plot(smoothed_scores_dqn_all[i])\n",
    "    plt.ylim(0, 250)\n",
    "    plt.grid(True)\n",
    "    plt.savefig(result_dir + '/training_dqn_{}.png'.format(i), dpi=1000)\n",
    "    plt.show()"
   ]
  },
  {
   "cell_type": "code",
   "execution_count": null,
   "metadata": {},
   "outputs": [],
   "source": [
    "# Plot results (mean)\n",
    "best_smoothed_scores_dqn = [smoothed_scores_dqn_all[0],\n",
    "                            smoothed_scores_dqn_all[1],\n",
    "                            smoothed_scores_dqn_all[2],\n",
    "                            smoothed_scores_dqn_all[3],\n",
    "                            smoothed_scores_dqn_all[4]]\n",
    "mean_smoothed_scores_dqn = np.mean(best_smoothed_scores_dqn, axis=0)\n",
    "std_smoothed_scores = np.std(best_smoothed_scores_dqn, axis=0)\n",
    "\n",
    "avg_dqn_completion_after = np.mean([dqn_completion_after[0],\n",
    "                                    dqn_completion_after[1],\n",
    "                                    dqn_completion_after[2],\n",
    "                                    dqn_completion_after[3],\n",
    "                                    dqn_completion_after[4]])\n",
    "\n",
    "fig = plt.figure()\n",
    "plt.plot(range(len(best_smoothed_scores_dqn[0])), mean_smoothed_scores_dqn)\n",
    "plt.fill_between(range(len(best_smoothed_scores_dqn[0])),\n",
    "                 np.nanpercentile(best_smoothed_scores_dqn, 2, axis=0),\n",
    "                 np.nanpercentile(best_smoothed_scores_dqn, 97, axis=0), alpha=0.25)\n",
    "plt.ylim(0, 250)\n",
    "plt.grid(True)\n",
    "plt.savefig(result_dir + '/DQN_training.png', dpi=300)\n",
    "plt.show()"
   ]
  },
  {
   "cell_type": "markdown",
   "metadata": {},
   "source": [
    "## Standard DQRNN training"
   ]
  },
  {
   "cell_type": "code",
   "execution_count": 15,
   "metadata": {
    "scrolled": false
   },
   "outputs": [
    {
     "name": "stdout",
     "output_type": "stream",
     "text": [
      "Run # 0\n",
      "Episode 6\tAverage Score: 24.17\t Epsilon: 0.86\r"
     ]
    },
    {
     "name": "stderr",
     "output_type": "stream",
     "text": [
      "/home/luuk/Desktop/testing/.venv/lib/python3.8/site-packages/gym/logger.py:30: UserWarning: \u001b[33mWARN: Box bound precision lowered by casting to float32\u001b[0m\n",
      "  warnings.warn(colorize('%s: %s'%('WARN', msg % args), 'yellow'))\n"
     ]
    },
    {
     "name": "stdout",
     "output_type": "stream",
     "text": [
      "Episode 100\tAverage Score: 17.31\t Epsilon: 0.18\n",
      "Episode 200\tAverage Score: 55.83\t Epsilon: 0.05\n",
      "Episode 300\tAverage Score: 171.27\t Epsilon: 0.05\n",
      "Episode 400\tAverage Score: 199.96\t Epsilon: 0.05\n",
      "Episode 500\tAverage Score: 196.31\t Epsilon: 0.05\n",
      "Episode 600\tAverage Score: 197.08\t Epsilon: 0.05\n",
      "Episode 700\tAverage Score: 200.00\t Epsilon: 0.05\n",
      "Episode 800\tAverage Score: 187.25\t Epsilon: 0.05\n",
      "Episode 900\tAverage Score: 200.00\t Epsilon: 0.05\n",
      "Episode 1000\tAverage Score: 189.81\t Epsilon: 0.05\n",
      "Best 100 episode average:  200.0  reached at episode  374 . Model saved in folder best.\n",
      "\n",
      "Run # 1\n",
      "Episode 100\tAverage Score: 16.64\t Epsilon: 0.19\n",
      "Episode 200\tAverage Score: 53.01\t Epsilon: 0.05\n",
      "Episode 300\tAverage Score: 125.76\t Epsilon: 0.05\n",
      "Episode 400\tAverage Score: 199.82\t Epsilon: 0.05\n",
      "Episode 500\tAverage Score: 199.58\t Epsilon: 0.05\n",
      "Episode 600\tAverage Score: 185.25\t Epsilon: 0.05\n",
      "Episode 700\tAverage Score: 192.48\t Epsilon: 0.05\n",
      "Episode 800\tAverage Score: 197.60\t Epsilon: 0.05\n",
      "Episode 900\tAverage Score: 145.45\t Epsilon: 0.05\n",
      "Episode 1000\tAverage Score: 200.00\t Epsilon: 0.05\n",
      "Best 100 episode average:  200.0  reached at episode  957 . Model saved in folder best.\n",
      "\n",
      "Run # 2\n",
      "Episode 100\tAverage Score: 22.78\t Epsilon: 0.10\n",
      "Episode 200\tAverage Score: 50.70\t Epsilon: 0.05\n",
      "Episode 300\tAverage Score: 180.56\t Epsilon: 0.05\n",
      "Episode 400\tAverage Score: 193.35\t Epsilon: 0.05\n",
      "Episode 500\tAverage Score: 191.37\t Epsilon: 0.05\n",
      "Episode 600\tAverage Score: 195.32\t Epsilon: 0.05\n",
      "Episode 700\tAverage Score: 199.77\t Epsilon: 0.05\n",
      "Episode 800\tAverage Score: 189.79\t Epsilon: 0.05\n",
      "Episode 900\tAverage Score: 198.73\t Epsilon: 0.05\n",
      "Episode 1000\tAverage Score: 199.25\t Epsilon: 0.05\n",
      "Best 100 episode average:  200.0  reached at episode  719 . Model saved in folder best.\n",
      "\n",
      "Run # 3\n",
      "Episode 100\tAverage Score: 16.51\t Epsilon: 0.19\n",
      "Episode 200\tAverage Score: 33.15\t Epsilon: 0.05\n",
      "Episode 300\tAverage Score: 87.51\t Epsilon: 0.05\n",
      "Episode 400\tAverage Score: 194.88\t Epsilon: 0.05\n",
      "Episode 500\tAverage Score: 198.81\t Epsilon: 0.05\n",
      "Episode 600\tAverage Score: 200.00\t Epsilon: 0.05\n",
      "Episode 700\tAverage Score: 194.76\t Epsilon: 0.05\n",
      "Episode 800\tAverage Score: 187.53\t Epsilon: 0.05\n",
      "Episode 900\tAverage Score: 176.29\t Epsilon: 0.05\n",
      "Episode 1000\tAverage Score: 188.90\t Epsilon: 0.05\n",
      "Best 100 episode average:  200.0  reached at episode  588 . Model saved in folder best.\n",
      "\n",
      "Run # 4\n",
      "Episode 100\tAverage Score: 16.93\t Epsilon: 0.18\n",
      "Episode 200\tAverage Score: 37.69\t Epsilon: 0.05\n",
      "Episode 300\tAverage Score: 73.52\t Epsilon: 0.05\n",
      "Episode 400\tAverage Score: 199.52\t Epsilon: 0.05\n",
      "Episode 500\tAverage Score: 199.23\t Epsilon: 0.05\n",
      "Episode 600\tAverage Score: 197.81\t Epsilon: 0.05\n",
      "Episode 700\tAverage Score: 188.52\t Epsilon: 0.05\n",
      "Episode 800\tAverage Score: 176.29\t Epsilon: 0.05\n",
      "Episode 900\tAverage Score: 198.59\t Epsilon: 0.05\n",
      "Episode 1000\tAverage Score: 198.64\t Epsilon: 0.05\n",
      "Best 100 episode average:  199.93  reached at episode  438 . Model saved in folder best.\n",
      "\n"
     ]
    }
   ],
   "source": [
    "smoothed_scores_dqn_all = []\n",
    "dqn_completion_after = []\n",
    "\n",
    "for i_run in range(n_runs):\n",
    "    print(\"Run # {}\".format(i_run))\n",
    "    seed = int(seeds[i_run])\n",
    "    \n",
    "    torch.manual_seed(seed)\n",
    "    random.seed(seed)\n",
    "\n",
    "    # policy_net = QNetwork(architecture, seed).to(device)\n",
    "    # target_net = QNetwork(architecture, seed).to(device)\n",
    "    policy_net = Standard_RNetwork(4, 64, 2, seed).to(device)\n",
    "    target_net = Standard_RNetwork(4, 64, 2, seed).to(device)\n",
    "\n",
    "    target_net.load_state_dict(policy_net.state_dict())\n",
    "\n",
    "    # optimizer = optim.Adam(policy_net.parameters(), lr=learning_rate)\n",
    "    optimizer = optim.Adam(policy_net.parameters(), lr = learning_rate, weight_decay = l2_coef) \n",
    "    agent = Agent(env_name, policy_net, target_net, architecture, batch_size,\n",
    "                  replay_memory_size, discount_factor, eps_start, eps_end, eps_decay,\n",
    "                  update_every, target_update_frequency, optimizer, learning_rate,\n",
    "                  num_episodes, max_steps, i_run, result_dir, seed, tau)\n",
    "    \n",
    "    smoothed_scores, scores, best_average, best_average_after = agent.train_agent()\n",
    "\n",
    "    np.save(result_dir + '/scores_{}'.format(i_run), scores)\n",
    "    np.save(result_dir + '/smoothed_scores_Standard_DQRNN_{}'.format(i_run), smoothed_scores)\n",
    "\n",
    "    # save smoothed scores in list to plot later\n",
    "    dqn_completion_after.append(best_average_after)\n",
    "    smoothed_scores_dqn_all.append(smoothed_scores)\n",
    "    print(\"\")"
   ]
  },
  {
   "cell_type": "code",
   "execution_count": 16,
   "metadata": {},
   "outputs": [
    {
     "data": {
      "image/png": "[encoded data removed]",
      "text/plain": [
       "<Figure size 640x480 with 1 Axes>"
      ]
     },
     "metadata": {},
     "output_type": "display_data"
    }
   ],
   "source": [
    "best_smoothed_scores_dsqn = [smoothed_scores_dqn_all[0],\n",
    "                             smoothed_scores_dqn_all[1],\n",
    "                             smoothed_scores_dqn_all[2],\n",
    "                             smoothed_scores_dqn_all[3],\n",
    "                             smoothed_scores_dqn_all[4]]\n",
    "mean_smoothed_scores_dsqn = np.mean(best_smoothed_scores_dsqn, axis=0)\n",
    "\n",
    "avg_dsqn_completion_after = np.mean([dqn_completion_after[0],\n",
    "                                    dqn_completion_after[1],\n",
    "                                    dqn_completion_after[2],\n",
    "                                    dqn_completion_after[3],\n",
    "                                    dqn_completion_after[4]])\n",
    "\n",
    "fig = plt.figure()\n",
    "plt.plot(range(len(best_smoothed_scores_dsqn[0])), mean_smoothed_scores_dsqn)\n",
    "plt.fill_between(range(len(best_smoothed_scores_dsqn[0])),\n",
    "                 np.nanpercentile(best_smoothed_scores_dsqn, 2, axis=0),\n",
    "                 np.nanpercentile(best_smoothed_scores_dsqn, 97, axis=0), alpha=0.25)\n",
    "\n",
    "plt.vlines(avg_dsqn_completion_after, 0, 250, 'C0')\n",
    "\n",
    "\n",
    "plt.ylim(0, 250)\n",
    "plt.grid(True)\n",
    "plt.savefig(result_dir + '/DSQN_training.png', dpi=1000)\n",
    "plt.title('CartPole-v0 DSQN')\n",
    "plt.show()"
   ]
  }
 ],
 "metadata": {
  "kernelspec": {
   "display_name": "Python 3 (ipykernel)",
   "language": "python",
   "name": "python3"
  },
  "language_info": {
   "codemirror_mode": {
    "name": "ipython",
    "version": 3
   },
   "file_extension": ".py",
   "mimetype": "text/x-python",
   "name": "python",
   "nbconvert_exporter": "python",
   "pygments_lexer": "ipython3",
   "version": "3.8.10"
  }
 },
 "nbformat": 4,
 "nbformat_minor": 2
}
