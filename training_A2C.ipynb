{
 "cells": [
  {
   "cell_type": "code",
   "execution_count": 1,
   "metadata": {},
   "outputs": [],
   "source": [
    "import torch\n",
    "import numpy as np\n",
    "import random\n",
    "import os\n",
    "from datetime import date\n",
    "\n",
    "from BP_A2C.backpropamine_A2C import BP_RNetwork, Standard_RNetwork, Standard_FFNetwork\n",
    "from BP_A2C.BP_A2C_agent import A2C_Agent\n",
    "\n",
    "%matplotlib inline"
   ]
  },
  {
   "cell_type": "code",
   "execution_count": 2,
   "metadata": {},
   "outputs": [],
   "source": [
    "# Environment specific parameters\n",
    "env_name = 'CartPole-v0'\n",
    "n_runs = 10\n",
    "n_evaluations = 100\n",
    "max_steps = 200\n",
    "num_training_episodes = 20000\n",
    "num_evaluation_episodes = 100\n",
    "max_reward = 200\n",
    "\n",
    "device = torch.device(\"cuda:0\" if torch.cuda.is_available() else \"cpu\")"
   ]
  },
  {
   "cell_type": "code",
   "execution_count": 3,
   "metadata": {},
   "outputs": [],
   "source": [
    "# A2C hyperparameters\n",
    "entropy_coef = 0.03 \n",
    "value_pred_coef = 0.1 \n",
    "gammaR = 0.99\n",
    "max_grad_norm = 4.0\n",
    "batch_size = 128\n",
    "print_every = 10\n",
    "save_every = 50"
   ]
  },
  {
   "cell_type": "code",
   "execution_count": 4,
   "metadata": {},
   "outputs": [],
   "source": [
    "# Adam hyperparameters\n",
    "learning_rate = 1e-4 # For Adam optimizer\n",
    "l2_coef = 0"
   ]
  },
  {
   "cell_type": "code",
   "execution_count": 5,
   "metadata": {},
   "outputs": [],
   "source": [
    "selection_method = \"evaluation\"\n",
    "training_method = \"range\"\n",
    "range_min = 0.7\n",
    "range_max = 9.0"
   ]
  },
  {
   "cell_type": "code",
   "execution_count": 6,
   "metadata": {},
   "outputs": [],
   "source": [
    "training_seeds = np.load('rstdp_cartpole_stuff/seeds/training_seeds.npy')\n",
    "evaluation_seeds = np.load('rstdp_cartpole_stuff/seeds/evaluation_seeds.npy')"
   ]
  },
  {
   "cell_type": "code",
   "execution_count": 7,
   "metadata": {},
   "outputs": [
    {
     "name": "stdout",
     "output_type": "stream",
     "text": [
      "Created Directory BP_A2C/training_results/TESTBP_RNN_a2c_result_21_20231031_entropycoef_0.03_valuepredcoef_0.1_batchsize_128_maxsteps_200_maxgradnorm_4.0_gammaR_0.99_l2coef_0_learningrate_0.0001_numtrainepisodes_20000_selectionmethod_evaluation_trainingmethod_range_rangemin_0.7_rangemax_9.0 to store the results in\n"
     ]
    }
   ],
   "source": [
    "# Create Results Directory\n",
    "dirs = os.listdir('./BP_A2C/training_results/')\n",
    "if not any('a2c_result' in d for d in dirs):\n",
    "    result_id = 1\n",
    "else:\n",
    "    results = [d for d in dirs if 'a2c_result' in d]\n",
    "    result_id = len(results) + 1\n",
    "\n",
    "# Get today's date and add it to the results directory\n",
    "d = date.today()\n",
    "result_dir = 'BP_A2C/training_results/TESTBP_RNN_a2c_result_' + str(result_id) + \"_{}_entropycoef_{}_valuepredcoef_{}_batchsize_{}_maxsteps_{}_\\\n",
    "maxgradnorm_{}_gammaR_{}_l2coef_{}_learningrate_{}_numtrainepisodes_{}_selectionmethod_{}_trainingmethod_{}\".format(\n",
    "    str(d.year) + str(d.month) + str(d.day), entropy_coef, value_pred_coef, batch_size, max_steps, max_grad_norm, gammaR,\n",
    "    l2_coef, learning_rate, num_training_episodes, selection_method, training_method)\n",
    "if training_method == \"range\":\n",
    "    result_dir += \"_rangemin_{}_rangemax_{}\".format(range_min, range_max)\n",
    "\n",
    "os.mkdir(result_dir)\n",
    "print('Created Directory {} to store the results in'.format(result_dir))"
   ]
  },
  {
   "cell_type": "code",
   "execution_count": 8,
   "metadata": {},
   "outputs": [
    {
     "name": "stdout",
     "output_type": "stream",
     "text": [
      "Run # 2\n",
      "Batch size larger than 1 not implemented yet. Program will continue with batch size set to 1.\n",
      "0\n",
      "0\n",
      "0\n"
     ]
    },
    {
     "name": "stderr",
     "output_type": "stream",
     "text": [
      "/home/luuk/AI/Thesis/Master-Thesis-code/.venv/lib/python3.8/site-packages/gym/logger.py:30: UserWarning: \u001b[33mWARN: Box bound precision lowered by casting to float32\u001b[0m\n",
      "  warnings.warn(colorize('%s: %s'%('WARN', msg % args), 'yellow'))\n"
     ]
    },
    {
     "ename": "TypeError",
     "evalue": "can't convert cuda:0 device type tensor to numpy. Use Tensor.cpu() to copy the tensor to host memory first.",
     "output_type": "error",
     "traceback": [
      "\u001b[0;31m---------------------------------------------------------------------------\u001b[0m",
      "\u001b[0;31mTypeError\u001b[0m                                 Traceback (most recent call last)",
      "\u001b[1;32m/home/luuk/AI/Thesis/Master-Thesis-code/training_A2C.ipynb Cell 8\u001b[0m line \u001b[0;36m2\n\u001b[1;32m     <a href='vscode-notebook-cell://wsl%2Bubuntu-20.04/home/luuk/AI/Thesis/Master-Thesis-code/training_A2C.ipynb#X10sdnNjb2RlLXJlbW90ZQ%3D%3D?line=14'>15</a>\u001b[0m optimizer \u001b[39m=\u001b[39m torch\u001b[39m.\u001b[39moptim\u001b[39m.\u001b[39mAdam(agent_net\u001b[39m.\u001b[39mparameters(), lr \u001b[39m=\u001b[39m learning_rate)\n\u001b[1;32m     <a href='vscode-notebook-cell://wsl%2Bubuntu-20.04/home/luuk/AI/Thesis/Master-Thesis-code/training_A2C.ipynb#X10sdnNjb2RlLXJlbW90ZQ%3D%3D?line=15'>16</a>\u001b[0m agent \u001b[39m=\u001b[39m A2C_Agent(env_name, seed, agent_net, entropy_coef, value_pred_coef, gammaR,\n\u001b[1;32m     <a href='vscode-notebook-cell://wsl%2Bubuntu-20.04/home/luuk/AI/Thesis/Master-Thesis-code/training_A2C.ipynb#X10sdnNjb2RlLXJlbW90ZQ%3D%3D?line=16'>17</a>\u001b[0m                     max_grad_norm, max_steps, batch_size, num_training_episodes, optimizer, print_every,\n\u001b[1;32m     <a href='vscode-notebook-cell://wsl%2Bubuntu-20.04/home/luuk/AI/Thesis/Master-Thesis-code/training_A2C.ipynb#X10sdnNjb2RlLXJlbW90ZQ%3D%3D?line=17'>18</a>\u001b[0m                     save_every, i_run, result_dir, selection_method, num_evaluation_episodes, evaluation_seeds, max_reward)\n\u001b[0;32m---> <a href='vscode-notebook-cell://wsl%2Bubuntu-20.04/home/luuk/AI/Thesis/Master-Thesis-code/training_A2C.ipynb#X10sdnNjb2RlLXJlbW90ZQ%3D%3D?line=19'>20</a>\u001b[0m smoothed_scores, scores, best_average, best_average_after \u001b[39m=\u001b[39m agent\u001b[39m.\u001b[39;49mtrain_agent()\n\u001b[1;32m     <a href='vscode-notebook-cell://wsl%2Bubuntu-20.04/home/luuk/AI/Thesis/Master-Thesis-code/training_A2C.ipynb#X10sdnNjb2RlLXJlbW90ZQ%3D%3D?line=20'>21</a>\u001b[0m best_average_after_all\u001b[39m.\u001b[39mappend(best_average_after)\n",
      "File \u001b[0;32m~/AI/Thesis/Master-Thesis-code/BP_A2C/BP_A2C_agent.py:93\u001b[0m, in \u001b[0;36mA2C_Agent.train_agent\u001b[0;34m(self)\u001b[0m\n\u001b[1;32m     91\u001b[0m \u001b[39m# Get distribution over the action space\u001b[39;00m\n\u001b[1;32m     92\u001b[0m policy_dist \u001b[39m=\u001b[39m torch\u001b[39m.\u001b[39msoftmax(policy_output, dim \u001b[39m=\u001b[39m \u001b[39m1\u001b[39m)\n\u001b[0;32m---> 93\u001b[0m value \u001b[39m=\u001b[39m value\u001b[39m.\u001b[39;49mdetach()\u001b[39m.\u001b[39;49mnumpy()[\u001b[39m0\u001b[39m,\u001b[39m0\u001b[39m]\n\u001b[1;32m     94\u001b[0m dist \u001b[39m=\u001b[39m policy_dist\u001b[39m.\u001b[39mdetach()\u001b[39m.\u001b[39mnumpy() \n\u001b[1;32m     96\u001b[0m \u001b[39m# Sample from distribution to select action\u001b[39;00m\n",
      "\u001b[0;31mTypeError\u001b[0m: can't convert cuda:0 device type tensor to numpy. Use Tensor.cpu() to copy the tensor to host memory first."
     ]
    }
   ],
   "source": [
    "smoothed_scores_dqn_all = []\n",
    "dqn_completion_after = []\n",
    "best_average_after_all = []\n",
    "# for i_run in [6, 7]:\n",
    "i_run = 2\n",
    "print(\"Run # {}\".format(i_run))\n",
    "seed = int(training_seeds[i_run]/3) #REMOVE THIS 2 LATER\n",
    "\n",
    "torch.manual_seed(seed)\n",
    "random.seed(seed)\n",
    "\n",
    "agent_net = BP_RNetwork(4, 64, 2, seed).to(device)\n",
    "\n",
    "# optimizer = torch.optim.Adam(agent_net.parameters(), lr=1.0*learning_rate, eps=1e-4, weight_decay=l2_coef)\n",
    "optimizer = torch.optim.Adam(agent_net.parameters(), lr = learning_rate)\n",
    "agent = A2C_Agent(env_name, seed, agent_net, entropy_coef, value_pred_coef, gammaR,\n",
    "                    max_grad_norm, max_steps, batch_size, num_training_episodes, optimizer, print_every,\n",
    "                    save_every, i_run, result_dir, selection_method, num_evaluation_episodes, evaluation_seeds, max_reward)\n",
    "\n",
    "smoothed_scores, scores, best_average, best_average_after = agent.train_agent()\n",
    "best_average_after_all.append(best_average_after)\n",
    "\n"
   ]
  },
  {
   "cell_type": "code",
   "execution_count": null,
   "metadata": {},
   "outputs": [],
   "source": [
    "with open(f\"{result_dir}/best_average_after.txt\", 'w') as f:\n",
    "    for i, best_episode in enumerate(best_average_after_all):\n",
    "        f.write(f\"{i}: {best_episode}\\n\")\n",
    "\n",
    "    f.write(f\"Average: {np.mean(best_average_after_all)}, std dev: {np.std(best_average_after_all)}\")"
   ]
  }
 ],
 "metadata": {
  "kernelspec": {
   "display_name": ".venv",
   "language": "python",
   "name": "python3"
  },
  "language_info": {
   "codemirror_mode": {
    "name": "ipython",
    "version": 3
   },
   "file_extension": ".py",
   "mimetype": "text/x-python",
   "name": "python",
   "nbconvert_exporter": "python",
   "pygments_lexer": "ipython3",
   "version": "3.8.10"
  }
 },
 "nbformat": 4,
 "nbformat_minor": 2
}
