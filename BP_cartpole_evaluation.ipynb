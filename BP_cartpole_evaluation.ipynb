{
 "cells": [
  {
   "cell_type": "markdown",
   "id": "fef2e3ee",
   "metadata": {},
   "source": [
    "# BP domain adaptation of pre-trained agents for modified CartPole environments"
   ]
  },
  {
   "cell_type": "code",
   "execution_count": 1,
   "id": "084483bc",
   "metadata": {},
   "outputs": [],
   "source": [
    "import os\n",
    "from datetime import date\n",
    "\n",
    "import numpy as np\n",
    "import torch\n",
    "import torch.optim as optim\n",
    "import random\n",
    "import gym\n",
    "import matplotlib.pyplot as plt\n",
    "from copy import deepcopy\n",
    "\n",
    "from cartpole_stuff.src.utils import evaluate_policy, rstdp_train_cartpole, evaluate_BP_policy\n",
    "\n",
    "import site\n",
    "site.addsitedir('../src/')\n",
    "\n",
    "from cartpole_stuff.src.dsnn import RSTDPNet\n",
    "from backpropamine_DQN import BP_RNetwork, Standard_RNetwork\n",
    "\n",
    "%matplotlib inline"
   ]
  },
  {
   "cell_type": "code",
   "execution_count": 2,
   "id": "ab71a941",
   "metadata": {},
   "outputs": [],
   "source": [
    "device = torch.device(\"cuda:0\" if torch.cuda.is_available() else \"cpu\")\n",
    "dtype = torch.float"
   ]
  },
  {
   "cell_type": "code",
   "execution_count": 3,
   "id": "7deedd78",
   "metadata": {},
   "outputs": [],
   "source": [
    "# Environment specific parameters\n",
    "env_name = 'CartPole-v0'\n",
    "max_reward = 200\n",
    "max_steps = 200\n",
    "\n",
    "n_evaluations = 100\n",
    "rstdp_episodes = 250"
   ]
  },
  {
   "cell_type": "code",
   "execution_count": 4,
   "id": "ac8cbe74",
   "metadata": {},
   "outputs": [
    {
     "name": "stderr",
     "output_type": "stream",
     "text": [
      "/home/luuk/Desktop/testing/.venv/lib/python3.8/site-packages/gym/logger.py:30: UserWarning: \u001b[33mWARN: Box bound precision lowered by casting to float32\u001b[0m\n",
      "  warnings.warn(colorize('%s: %s'%('WARN', msg % args), 'yellow'))\n"
     ]
    }
   ],
   "source": [
    "# Create environments\n",
    "original_env = gym.make(env_name)\n",
    "\n",
    "# modified_env = gym.make(env_name)\n",
    "# modified_env.unwrapped.length *= 1.1"
   ]
  },
  {
   "cell_type": "code",
   "execution_count": 5,
   "id": "94627454",
   "metadata": {},
   "outputs": [],
   "source": [
    "# SNN Hyperparameters\n",
    "simulation_time = 8\n",
    "alpha = 0.8\n",
    "beta = 0.8\n",
    "threshold = 0.5\n",
    "weight_scale = 1\n",
    "architecture = [4, 64, 64, 2]"
   ]
  },
  {
   "cell_type": "code",
   "execution_count": 6,
   "id": "955f4b15",
   "metadata": {},
   "outputs": [],
   "source": [
    "# RSTDP Hyperparameters\n",
    "tau = 5\n",
    "tau_e = 10\n",
    "C = 0.01\n",
    "# A+/- are calculated from the pre-trained network weights"
   ]
  },
  {
   "cell_type": "code",
   "execution_count": 7,
   "id": "541f666b",
   "metadata": {},
   "outputs": [],
   "source": [
    "evaluation_seeds = np.load('cartpole_stuff/seeds/evaluation_seeds.npy')\n",
    "rstdp_seeds = np.load('cartpole_stuff/seeds/rstdp_training_seeds.npy')"
   ]
  },
  {
   "cell_type": "code",
   "execution_count": 8,
   "id": "10da94f2",
   "metadata": {},
   "outputs": [],
   "source": [
    "# Load pre-trained model weights\n",
    "weights_0 = torch.load('Standard_DQRNN_training_1000eps/checkpoint_Standard_DQRNN_0.pt', map_location=torch.device(device))\n",
    "weights_1 = torch.load('Standard_DQRNN_training_1000eps/checkpoint_Standard_DQRNN_1.pt', map_location=torch.device(device))\n",
    "weights_2 = torch.load('Standard_DQRNN_training_1000eps/checkpoint_Standard_DQRNN_2.pt', map_location=torch.device(device))\n",
    "weights_3 = torch.load('Standard_DQRNN_training_1000eps/checkpoint_Standard_DQRNN_3.pt', map_location=torch.device(device))\n",
    "weights_4 = torch.load('Standard_DQRNN_training_1000eps/checkpoint_Standard_DQRNN_4.pt', map_location=torch.device(device))\n",
    "weights = [weights_0, weights_1, weights_2, weights_3, weights_4]\n"
   ]
  },
  {
   "cell_type": "code",
   "execution_count": 9,
   "id": "cafb7b6a",
   "metadata": {},
   "outputs": [],
   "source": [
    "# Helper for printing\n",
    "eraser = '\\b \\b'"
   ]
  },
  {
   "cell_type": "markdown",
   "id": "62c52187",
   "metadata": {},
   "source": [
    "### Evaluate pre-trained BP models on original environment"
   ]
  },
  {
   "cell_type": "code",
   "execution_count": 10,
   "id": "f7ba6745",
   "metadata": {},
   "outputs": [
    {
     "name": "stdout",
     "output_type": "stream",
     "text": [
      "Run 00 -> Avg reward:  200.00\n",
      "Run 01 -> Avg reward:  200.00\n",
      "Run 02 -> Avg reward:  200.00\n",
      "Run 03 -> Avg reward:  199.71\n",
      "Run 04 -> Avg reward:  200.00\n",
      "Mean avg reward: 199.942\n"
     ]
    }
   ],
   "source": [
    "original_eval_rewards = []\n",
    "\n",
    "for i, w in enumerate(weights):\n",
    "    print('Run {:02d} ...'.format(i), end='')\n",
    "    policy_net = Standard_RNetwork(4, 64, 2, 5).to(device)\n",
    "    policy_net.loadWeights(w)\n",
    "\n",
    "    rewards = evaluate_BP_policy(policy_net, original_env, n_evaluations, evaluation_seeds)\n",
    "    original_eval_rewards.append(rewards)\n",
    "    \n",
    "    print(eraser*3 + '-> Avg reward: {:7.2f}'.format(np.mean(rewards)))\n",
    "\n",
    "print(f\"Mean avg reward: {np.mean(original_eval_rewards)}\")"
   ]
  },
  {
   "cell_type": "markdown",
   "id": "e4ef15f9",
   "metadata": {},
   "source": [
    "### Evaluate pre-trained BP models on modified environments"
   ]
  },
  {
   "cell_type": "code",
   "execution_count": 11,
   "id": "d5ac05e8",
   "metadata": {},
   "outputs": [
    {
     "name": "stderr",
     "output_type": "stream",
     "text": [
      "/home/luuk/Desktop/testing/.venv/lib/python3.8/site-packages/gym/logger.py:30: UserWarning: \u001b[33mWARN: Box bound precision lowered by casting to float32\u001b[0m\n",
      "  warnings.warn(colorize('%s: %s'%('WARN', msg % args), 'yellow'))\n"
     ]
    },
    {
     "name": "stdout",
     "output_type": "stream",
     "text": [
      "Run 00 -> Avg reward:  200.00\n",
      "Run 01 -> Avg reward:  200.00\n",
      "Run 02 -> Avg reward:   78.48\n",
      "Run 03 -> Avg reward:  199.69\n",
      "Run 04 -> Avg reward:  200.00\n",
      "Run 00 -> Avg reward:  200.00\n",
      "Run 01 -> Avg reward:  200.00\n",
      "Run 02 -> Avg reward:   31.71\n",
      "Run 03 -> Avg reward:  199.91\n",
      "Run 04 -> Avg reward:  200.00\n",
      "Run 00 -> Avg reward:  200.00\n",
      "Run 01 -> Avg reward:  192.64\n",
      "Run 02 -> Avg reward:   24.73\n",
      "Run 03 -> Avg reward:  199.86\n",
      "Run 04 -> Avg reward:  200.00\n",
      "Run 00 -> Avg reward:  200.00\n",
      "Run 01 -> Avg reward:   61.95\n",
      "Run 02 -> Avg reward:   20.55\n",
      "Run 03 -> Avg reward:  199.85\n",
      "Run 04 -> Avg reward:  200.00\n",
      "Run 00 -> Avg reward:  200.00\n",
      "Run 01 -> Avg reward:   59.42\n",
      "Run 02 -> Avg reward:   15.81\n",
      "Run 03 -> Avg reward:  199.88\n",
      "Run 04 -> Avg reward:  200.00\n",
      "Run 00 -> Avg reward:  200.00\n",
      "Run 01 -> Avg reward:   57.50\n",
      "Run 02 -> Avg reward:   13.14\n",
      "Run 03 -> Avg reward:  199.80\n",
      "Run 04 -> Avg reward:  200.00\n",
      "Run 00 -> Avg reward:  200.00\n",
      "Run 01 -> Avg reward:   56.99\n",
      "Run 02 -> Avg reward:   12.80\n",
      "Run 03 -> Avg reward:  188.79\n",
      "Run 04 -> Avg reward:  200.00\n",
      "Run 00 -> Avg reward:  200.00\n",
      "Run 01 -> Avg reward:   54.12\n",
      "Run 02 -> Avg reward:   13.12\n",
      "Run 03 -> Avg reward:  167.51\n",
      "Run 04 -> Avg reward:  200.00\n",
      "Run 00 -> Avg reward:  200.00\n",
      "Run 01 -> Avg reward:   46.45\n",
      "Run 02 -> Avg reward:   13.41\n",
      "Run 03 -> Avg reward:  120.38\n",
      "Run 04 -> Avg reward:  200.00\n",
      "Run 00 -> Avg reward:  200.00\n",
      "Run 01 -> Avg reward:   37.71\n",
      "Run 02 -> Avg reward:   13.67\n",
      "Run 03 -> Avg reward:   71.71\n",
      "Run 04 -> Avg reward:  200.00\n"
     ]
    }
   ],
   "source": [
    "percentages = np.linspace(1.1, 2.0, 10)\n",
    "all_modified_env_eval_rewards = []\n",
    "for percentage in percentages:\n",
    "\n",
    "    modified_env = gym.make(env_name)\n",
    "    modified_env.unwrapped.length *= percentage\n",
    "\n",
    "    modified_env_eval_rewards = []\n",
    "\n",
    "    for i, w in enumerate(weights):\n",
    "        print('Run {:02d} ...'.format(i), end='')\n",
    "        policy_net = Standard_RNetwork(4, 64, 2, 5).to(device)\n",
    "        policy_net.loadWeights(w)\n",
    "\n",
    "        rewards = evaluate_BP_policy(policy_net, modified_env, n_evaluations, evaluation_seeds)\n",
    "        modified_env_eval_rewards.append(rewards)\n",
    "        \n",
    "        print(eraser*3 + '-> Avg reward: {:7.2f}'.format(np.mean(rewards)))\n",
    "\n",
    "    all_modified_env_eval_rewards.append(modified_env_eval_rewards)\n"
   ]
  },
  {
   "cell_type": "code",
   "execution_count": 12,
   "id": "44e3179a",
   "metadata": {},
   "outputs": [
    {
     "name": "stdout",
     "output_type": "stream",
     "text": [
      "175.634\n",
      "166.324\n",
      "163.446\n",
      "136.47\n",
      "135.022\n",
      "134.088\n",
      "131.716\n",
      "126.95\n",
      "116.048\n",
      "104.618\n"
     ]
    }
   ],
   "source": [
    "mean_avgs = []\n",
    "std_dev_avgs = []\n",
    "for results in all_modified_env_eval_rewards:\n",
    "    mean_avgs.append(np.mean(results))\n",
    "    std_dev_avgs.append(np.std(results))\n",
    "    print(np.mean(results))"
   ]
  },
  {
   "cell_type": "code",
   "execution_count": 14,
   "id": "4c7779f9",
   "metadata": {},
   "outputs": [
    {
     "data": {
      "image/png": "[encoded data removed]",
      "text/plain": [
       "<Figure size 640x480 with 1 Axes>"
      ]
     },
     "metadata": {},
     "output_type": "display_data"
    }
   ],
   "source": [
    "fig = plt.figure()\n",
    "plt.plot(percentages, mean_avgs)\n",
    "plt.errorbar(percentages, mean_avgs, std_dev_avgs, capsize=5)\n",
    "plt.ylim(0, 250)\n",
    "plt.grid(True)\n",
    "plt.xlabel(\"Pole length increase (%)\")\n",
    "plt.xticks(percentages)\n",
    "plt.ylabel(\"Average reward\")\n",
    "plt.title(\"Average reward (over 100 episodes and 5 models) standard DQRNN\")\n",
    "plt.savefig(\"figs/Standard_DQRNN_1000eps_5models_evaluation.png\", dpi=300)"
   ]
  },
  {
   "cell_type": "markdown",
   "id": "fbd4678c",
   "metadata": {},
   "source": [
    "### BP fine tuning"
   ]
  },
  {
   "cell_type": "code",
   "execution_count": 14,
   "id": "5f9bfabb",
   "metadata": {},
   "outputs": [
    {
     "name": "stdout",
     "output_type": "stream",
     "text": [
      "Episode:    5 -- Reward:  191.96 -- Best reward:  186.45 in episode    4\r"
     ]
    },
    {
     "ename": "KeyboardInterrupt",
     "evalue": "",
     "output_type": "error",
     "traceback": [
      "\u001b[0;31m---------------------------------------------------------------------------\u001b[0m",
      "\u001b[0;31mKeyboardInterrupt\u001b[0m                         Traceback (most recent call last)",
      "\u001b[1;32m/home/luuk/Desktop/dsrl/rstdp_domain_adaptation/rstdp_cartpole_adaptation.ipynb Cell 18\u001b[0m line \u001b[0;36m1\n\u001b[1;32m     <a href='vscode-notebook-cell:/home/luuk/Desktop/dsrl/rstdp_domain_adaptation/rstdp_cartpole_adaptation.ipynb#X52sZmlsZQ%3D%3D?line=9'>10</a>\u001b[0m A_minus \u001b[39m=\u001b[39m torch\u001b[39m.\u001b[39mabs(torch\u001b[39m.\u001b[39mmean(w_minus))\n\u001b[1;32m     <a href='vscode-notebook-cell:/home/luuk/Desktop/dsrl/rstdp_domain_adaptation/rstdp_cartpole_adaptation.ipynb#X52sZmlsZQ%3D%3D?line=11'>12</a>\u001b[0m policy_net \u001b[39m=\u001b[39m RSTDPNet(alpha, beta, threshold, architecture, simulation_time, w, \n\u001b[1;32m     <a href='vscode-notebook-cell:/home/luuk/Desktop/dsrl/rstdp_domain_adaptation/rstdp_cartpole_adaptation.ipynb#X52sZmlsZQ%3D%3D?line=12'>13</a>\u001b[0m                               tau, tau_e, A_plus, A_minus, C, \n\u001b[1;32m     <a href='vscode-notebook-cell:/home/luuk/Desktop/dsrl/rstdp_domain_adaptation/rstdp_cartpole_adaptation.ipynb#X52sZmlsZQ%3D%3D?line=13'>14</a>\u001b[0m                               device\u001b[39m=\u001b[39mdevice, dtype\u001b[39m=\u001b[39mdtype)\n\u001b[0;32m---> <a href='vscode-notebook-cell:/home/luuk/Desktop/dsrl/rstdp_domain_adaptation/rstdp_cartpole_adaptation.ipynb#X52sZmlsZQ%3D%3D?line=15'>16</a>\u001b[0m adapted_weights, rewards \u001b[39m=\u001b[39m rstdp_train_cartpole(policy_net, modified_env, max_reward, rstdp_episodes, \n\u001b[1;32m     <a href='vscode-notebook-cell:/home/luuk/Desktop/dsrl/rstdp_domain_adaptation/rstdp_cartpole_adaptation.ipynb#X52sZmlsZQ%3D%3D?line=16'>17</a>\u001b[0m                                              n_evaluations, max_steps, rstdp_seeds, evaluation_seeds)\n\u001b[1;32m     <a href='vscode-notebook-cell:/home/luuk/Desktop/dsrl/rstdp_domain_adaptation/rstdp_cartpole_adaptation.ipynb#X52sZmlsZQ%3D%3D?line=18'>19</a>\u001b[0m rstdp_adaptation_rewards\u001b[39m.\u001b[39mappend(rewards)\n\u001b[1;32m     <a href='vscode-notebook-cell:/home/luuk/Desktop/dsrl/rstdp_domain_adaptation/rstdp_cartpole_adaptation.ipynb#X52sZmlsZQ%3D%3D?line=19'>20</a>\u001b[0m adapted_weights_collection\u001b[39m.\u001b[39mappend(adapted_weights)\n",
      "File \u001b[0;32m~/Desktop/dsrl/rstdp_domain_adaptation/utils.py:93\u001b[0m, in \u001b[0;36mrstdp_train_cartpole\u001b[0;34m(policy_net, env, max_reward, num_episodes, n_evaluations, max_steps, rstdp_seeds, evaluation_seeds)\u001b[0m\n\u001b[1;32m     90\u001b[0m delta_rstdp \u001b[39m=\u001b[39m \u001b[39m-\u001b[39me_trace \u001b[39m*\u001b[39m (\u001b[39m1.0\u001b[39m \u001b[39m-\u001b[39m total_reward \u001b[39m/\u001b[39m max_reward)\n\u001b[1;32m     91\u001b[0m policy_net\u001b[39m.\u001b[39ml2\u001b[39m.\u001b[39mweights \u001b[39m+\u001b[39m\u001b[39m=\u001b[39m delta_rstdp[\u001b[39m0\u001b[39m]\n\u001b[0;32m---> 93\u001b[0m eval_rewards \u001b[39m=\u001b[39m evaluate_policy(policy_net, env, n_evaluations, evaluation_seeds)\n\u001b[1;32m     94\u001b[0m avg_eval_reward \u001b[39m=\u001b[39m np\u001b[39m.\u001b[39mmean(eval_rewards)\n\u001b[1;32m     96\u001b[0m \u001b[39mprint\u001b[39m(\u001b[39m\"\u001b[39m\u001b[39mEpisode: \u001b[39m\u001b[39m{:4d}\u001b[39;00m\u001b[39m -- Reward: \u001b[39m\u001b[39m{:7.2f}\u001b[39;00m\u001b[39m -- Best reward: \u001b[39m\u001b[39m{:7.2f}\u001b[39;00m\u001b[39m in episode \u001b[39m\u001b[39m{:4d}\u001b[39;00m\u001b[39m\"\u001b[39m\\\n\u001b[1;32m     97\u001b[0m         \u001b[39m.\u001b[39mformat(i_episode, avg_eval_reward, best_reward, best_episode), end\u001b[39m=\u001b[39m\u001b[39m'\u001b[39m\u001b[39m\\r\u001b[39;00m\u001b[39m'\u001b[39m)\n",
      "File \u001b[0;32m~/Desktop/dsrl/rstdp_domain_adaptation/utils.py:33\u001b[0m, in \u001b[0;36mevaluate_policy\u001b[0;34m(policy_net, env, n_evaluations, seeds)\u001b[0m\n\u001b[1;32m     31\u001b[0m \u001b[39mwhile\u001b[39;00m \u001b[39mnot\u001b[39;00m done:\n\u001b[1;32m     32\u001b[0m     inputs \u001b[39m=\u001b[39m torch\u001b[39m.\u001b[39mfrom_numpy(state)\u001b[39m.\u001b[39mfloat()\n\u001b[0;32m---> 33\u001b[0m     mem_result, _ \u001b[39m=\u001b[39m policy_net(inputs, rstdp_state\u001b[39m=\u001b[39;49m(\u001b[39mNone\u001b[39;49;00m, \u001b[39mNone\u001b[39;49;00m, \u001b[39mNone\u001b[39;49;00m))\n\u001b[1;32m     34\u001b[0m     action \u001b[39m=\u001b[39m torch\u001b[39m.\u001b[39margmax(mem_result)\n\u001b[1;32m     35\u001b[0m     state, r, done, _ \u001b[39m=\u001b[39m env\u001b[39m.\u001b[39mstep(action\u001b[39m.\u001b[39mitem())\n",
      "File \u001b[0;32m~/Desktop/dsrl/.venv/lib/python3.8/site-packages/torch/nn/modules/module.py:1190\u001b[0m, in \u001b[0;36mModule._call_impl\u001b[0;34m(self, *input, **kwargs)\u001b[0m\n\u001b[1;32m   1186\u001b[0m \u001b[39m# If we don't have any hooks, we want to skip the rest of the logic in\u001b[39;00m\n\u001b[1;32m   1187\u001b[0m \u001b[39m# this function, and just call forward.\u001b[39;00m\n\u001b[1;32m   1188\u001b[0m \u001b[39mif\u001b[39;00m \u001b[39mnot\u001b[39;00m (\u001b[39mself\u001b[39m\u001b[39m.\u001b[39m_backward_hooks \u001b[39mor\u001b[39;00m \u001b[39mself\u001b[39m\u001b[39m.\u001b[39m_forward_hooks \u001b[39mor\u001b[39;00m \u001b[39mself\u001b[39m\u001b[39m.\u001b[39m_forward_pre_hooks \u001b[39mor\u001b[39;00m _global_backward_hooks\n\u001b[1;32m   1189\u001b[0m         \u001b[39mor\u001b[39;00m _global_forward_hooks \u001b[39mor\u001b[39;00m _global_forward_pre_hooks):\n\u001b[0;32m-> 1190\u001b[0m     \u001b[39mreturn\u001b[39;00m forward_call(\u001b[39m*\u001b[39;49m\u001b[39minput\u001b[39;49m, \u001b[39m*\u001b[39;49m\u001b[39m*\u001b[39;49mkwargs)\n\u001b[1;32m   1191\u001b[0m \u001b[39m# Do not call functions when jit is used\u001b[39;00m\n\u001b[1;32m   1192\u001b[0m full_backward_hooks, non_full_backward_hooks \u001b[39m=\u001b[39m [], []\n",
      "File \u001b[0;32m~/Desktop/dsrl/src/dsnn.py:225\u001b[0m, in \u001b[0;36mRSTDPNet.forward\u001b[0;34m(self, inputs, rstdp_state)\u001b[0m\n\u001b[1;32m    223\u001b[0m y_l1, _, _ \u001b[39m=\u001b[39m \u001b[39mself\u001b[39m\u001b[39m.\u001b[39ml1(inputs)\n\u001b[1;32m    224\u001b[0m y_l2, _, _ \u001b[39m=\u001b[39m \u001b[39mself\u001b[39m\u001b[39m.\u001b[39ml2(y_l1)\n\u001b[0;32m--> 225\u001b[0m _, mem_result, _ \u001b[39m=\u001b[39m \u001b[39mself\u001b[39;49m\u001b[39m.\u001b[39;49ml3(y_l2)\n\u001b[1;32m    227\u001b[0m \u001b[39m# Calculate rstdp\u001b[39;00m\n\u001b[1;32m    228\u001b[0m rstdp_out \u001b[39m=\u001b[39m \u001b[39mself\u001b[39m\u001b[39m.\u001b[39mrstdp(y_l1, y_l2, rstdp_state)\n",
      "File \u001b[0;32m~/Desktop/dsrl/.venv/lib/python3.8/site-packages/torch/nn/modules/module.py:1190\u001b[0m, in \u001b[0;36mModule._call_impl\u001b[0;34m(self, *input, **kwargs)\u001b[0m\n\u001b[1;32m   1186\u001b[0m \u001b[39m# If we don't have any hooks, we want to skip the rest of the logic in\u001b[39;00m\n\u001b[1;32m   1187\u001b[0m \u001b[39m# this function, and just call forward.\u001b[39;00m\n\u001b[1;32m   1188\u001b[0m \u001b[39mif\u001b[39;00m \u001b[39mnot\u001b[39;00m (\u001b[39mself\u001b[39m\u001b[39m.\u001b[39m_backward_hooks \u001b[39mor\u001b[39;00m \u001b[39mself\u001b[39m\u001b[39m.\u001b[39m_forward_hooks \u001b[39mor\u001b[39;00m \u001b[39mself\u001b[39m\u001b[39m.\u001b[39m_forward_pre_hooks \u001b[39mor\u001b[39;00m _global_backward_hooks\n\u001b[1;32m   1189\u001b[0m         \u001b[39mor\u001b[39;00m _global_forward_hooks \u001b[39mor\u001b[39;00m _global_forward_pre_hooks):\n\u001b[0;32m-> 1190\u001b[0m     \u001b[39mreturn\u001b[39;00m forward_call(\u001b[39m*\u001b[39;49m\u001b[39minput\u001b[39;49m, \u001b[39m*\u001b[39;49m\u001b[39m*\u001b[39;49mkwargs)\n\u001b[1;32m   1191\u001b[0m \u001b[39m# Do not call functions when jit is used\u001b[39;00m\n\u001b[1;32m   1192\u001b[0m full_backward_hooks, non_full_backward_hooks \u001b[39m=\u001b[39m [], []\n",
      "File \u001b[0;32m~/Desktop/dsrl/src/dsnn.py:58\u001b[0m, in \u001b[0;36mDSNN.forward\u001b[0;34m(self, inputs, state)\u001b[0m\n\u001b[1;32m     55\u001b[0m spk_out, mem_out, syn_out \u001b[39m=\u001b[39m [], [], []\n\u001b[1;32m     57\u001b[0m \u001b[39mfor\u001b[39;00m t \u001b[39min\u001b[39;00m \u001b[39mrange\u001b[39m(inputs\u001b[39m.\u001b[39mshape[\u001b[39m1\u001b[39m]):\n\u001b[0;32m---> 58\u001b[0m     h \u001b[39m=\u001b[39m \u001b[39mself\u001b[39;49m\u001b[39m.\u001b[39;49moperation(inputs[:, t, \u001b[39m.\u001b[39;49m\u001b[39m.\u001b[39;49m\u001b[39m.\u001b[39;49m], \u001b[39mself\u001b[39;49m\u001b[39m.\u001b[39;49mweights)\n\u001b[1;32m     60\u001b[0m     \u001b[39mif\u001b[39;00m mem \u001b[39mis\u001b[39;00m \u001b[39mNone\u001b[39;00m \u001b[39mor\u001b[39;00m syn \u001b[39mis\u001b[39;00m \u001b[39mNone\u001b[39;00m:\n\u001b[1;32m     61\u001b[0m         mem, syn \u001b[39m=\u001b[39m \u001b[39mself\u001b[39m\u001b[39m.\u001b[39m_get_initial_state(template\u001b[39m=\u001b[39mh, amount_state_vars\u001b[39m=\u001b[39m\u001b[39m2\u001b[39m)\n",
      "File \u001b[0;32m~/Desktop/dsrl/.venv/lib/python3.8/site-packages/torch/functional.py:378\u001b[0m, in \u001b[0;36meinsum\u001b[0;34m(*args)\u001b[0m\n\u001b[1;32m    373\u001b[0m     \u001b[39mreturn\u001b[39;00m einsum(equation, \u001b[39m*\u001b[39m_operands)\n\u001b[1;32m    375\u001b[0m \u001b[39mif\u001b[39;00m \u001b[39mlen\u001b[39m(operands) \u001b[39m<\u001b[39m\u001b[39m=\u001b[39m \u001b[39m2\u001b[39m \u001b[39mor\u001b[39;00m \u001b[39mnot\u001b[39;00m opt_einsum\u001b[39m.\u001b[39menabled:\n\u001b[1;32m    376\u001b[0m     \u001b[39m# the path for contracting 0 or 1 time(s) is already optimized\u001b[39;00m\n\u001b[1;32m    377\u001b[0m     \u001b[39m# or the user has disabled using opt_einsum\u001b[39;00m\n\u001b[0;32m--> 378\u001b[0m     \u001b[39mreturn\u001b[39;00m _VF\u001b[39m.\u001b[39;49meinsum(equation, operands)  \u001b[39m# type: ignore[attr-defined]\u001b[39;00m\n\u001b[1;32m    380\u001b[0m path \u001b[39m=\u001b[39m \u001b[39mNone\u001b[39;00m\n\u001b[1;32m    381\u001b[0m \u001b[39mif\u001b[39;00m opt_einsum\u001b[39m.\u001b[39mis_available():\n",
      "\u001b[0;31mKeyboardInterrupt\u001b[0m: "
     ]
    }
   ],
   "source": [
    "# Hyperparameters\n",
    "batch_size = 128\n",
    "discount_factor = 0.999\n",
    "eps_start = 1.0\n",
    "eps_end = 0.05\n",
    "eps_decay = 0.999\n",
    "update_every = 4\n",
    "target_update_frequency = 100\n",
    "learning_rate = 0.001 # lr is 0.0001 for simple maze as default\n",
    "l2_coef = 0 # 0 is default in simple maze task\n",
    "replay_memory_size = 4*10**4\n",
    "tau = 1e-3\n",
    "\n",
    "BP_finetuning_rewards = []\n",
    "adapted_weights_collection = []\n",
    "\n",
    "for i, w in enumerate(weights):\n",
    "    \n",
    "    policy_net = BP_RNetwork(4, 64, 2, 5).to(device)\n",
    "    policy_net.loadWeights(w)\n",
    "    target_net = BP_RNetwork(4, 64, 2, 5).to(device)\n",
    "    target_net.load_state_dict(policy_net.state_dict())\n",
    "\n",
    "    optimizer = optim.Adam(policy_net.parameters(), lr = learning_rate, weight_decay = l2_coef) \n",
    "    agent = Agent(env_name, policy_net, target_net, architecture, batch_size,\n",
    "                  replay_memory_size, discount_factor, eps_start, eps_end, eps_decay,\n",
    "                  update_every, target_update_frequency, optimizer, learning_rate,\n",
    "                  num_episodes, max_steps, i_run, result_dir, seed, tau)\n",
    "\n",
    "\n",
    "\n",
    "\n",
    "    \n",
    "    adapted_weights, rewards = BP_fine_tuning(policy_net, modified_env, max_reward, rstdp_episodes, \n",
    "                                                 n_evaluations, max_steps, rstdp_seeds, evaluation_seeds)\n",
    "    \n",
    "    BP_finetuning_rewards.append(rewards)\n",
    "    adapted_weights_collection.append(adapted_weights)\n",
    "    \n",
    "adapted_weights_collection = [(list(aw.values()), []) for aw in adapted_weights_collection]"
   ]
  },
  {
   "cell_type": "markdown",
   "id": "585101eb",
   "metadata": {},
   "source": [
    "### Evaluate adapted models on modified environment"
   ]
  },
  {
   "cell_type": "code",
   "execution_count": 15,
   "id": "6640b7d6",
   "metadata": {},
   "outputs": [],
   "source": [
    "adapted_eval_rewards = []\n",
    "\n",
    "for i, w in enumerate(adapted_weights_collection):\n",
    "    print('Run {:02d} ...'.format(i), end='')\n",
    "    policy_net = RSTDPNet(alpha, beta, threshold, architecture, simulation_time, w,\n",
    "                                  device=device, dtype=dtype)\n",
    "    rewards = evaluate_policy(policy_net, modified_env, n_evaluations, evaluation_seeds)\n",
    "    adapted_eval_rewards.append(rewards)\n",
    "    print(eraser*3 + '-> Avg reward: {:7.2f}'.format(np.mean(rewards)))"
   ]
  },
  {
   "cell_type": "code",
   "execution_count": 16,
   "id": "2231eb92",
   "metadata": {},
   "outputs": [
    {
     "name": "stderr",
     "output_type": "stream",
     "text": [
      "No artists with labels found to put in legend.  Note that artists whose label start with an underscore are ignored when legend() is called with no argument.\n"
     ]
    },
    {
     "data": {
      "image/png": "[encoded data removed]",
      "text/plain": [
       "<Figure size 1600x400 with 1 Axes>"
      ]
     },
     "metadata": {},
     "output_type": "display_data"
    }
   ],
   "source": [
    "plt.figure(figsize=(16, 4))\n",
    "\n",
    "for i, aer in enumerate(adapted_eval_rewards):\n",
    "    plt.plot(aer, label='Run {:02d}'.format(i))\n",
    "\n",
    "plt.legend()\n",
    "plt.grid()\n",
    "plt.show()"
   ]
  }
 ],
 "metadata": {
  "kernelspec": {
   "display_name": "Python 3 (ipykernel)",
   "language": "python",
   "name": "python3"
  },
  "language_info": {
   "codemirror_mode": {
    "name": "ipython",
    "version": 3
   },
   "file_extension": ".py",
   "mimetype": "text/x-python",
   "name": "python",
   "nbconvert_exporter": "python",
   "pygments_lexer": "ipython3",
   "version": "3.8.10"
  }
 },
 "nbformat": 4,
 "nbformat_minor": 5
}
