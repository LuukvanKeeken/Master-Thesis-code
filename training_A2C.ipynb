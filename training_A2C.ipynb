{
 "cells": [
  {
   "cell_type": "code",
   "execution_count": 1,
   "metadata": {},
   "outputs": [
    {
     "name": "stderr",
     "output_type": "stream",
     "text": [
      "/home/luuk/Desktop/testing/BP_A2C/BP_A2C_agent.py:54: SyntaxWarning: \"is not\" with a literal. Did you mean \"!=\"?\n",
      "  suffix = \"btchFixmod_\"+\"\".join([str(x)+\"_\" if pair[0] is not 'nbsteps' and pair[0] is not 'rngseed' and pair[0] is not 'save_every' and pair[0] is not 'test_every' and pair[0] is not 'pe' else '' for pair in sorted(zip(params.keys(), params.values()), key=lambda x:x[0] ) for x in pair])[:-1] + \"_rngseed_\" + str(params['rngseed'])   # Turning the parameters into a nice suffix for filenames\n",
      "/home/luuk/Desktop/testing/BP_A2C/BP_A2C_agent.py:54: SyntaxWarning: \"is not\" with a literal. Did you mean \"!=\"?\n",
      "  suffix = \"btchFixmod_\"+\"\".join([str(x)+\"_\" if pair[0] is not 'nbsteps' and pair[0] is not 'rngseed' and pair[0] is not 'save_every' and pair[0] is not 'test_every' and pair[0] is not 'pe' else '' for pair in sorted(zip(params.keys(), params.values()), key=lambda x:x[0] ) for x in pair])[:-1] + \"_rngseed_\" + str(params['rngseed'])   # Turning the parameters into a nice suffix for filenames\n",
      "/home/luuk/Desktop/testing/BP_A2C/BP_A2C_agent.py:54: SyntaxWarning: \"is not\" with a literal. Did you mean \"!=\"?\n",
      "  suffix = \"btchFixmod_\"+\"\".join([str(x)+\"_\" if pair[0] is not 'nbsteps' and pair[0] is not 'rngseed' and pair[0] is not 'save_every' and pair[0] is not 'test_every' and pair[0] is not 'pe' else '' for pair in sorted(zip(params.keys(), params.values()), key=lambda x:x[0] ) for x in pair])[:-1] + \"_rngseed_\" + str(params['rngseed'])   # Turning the parameters into a nice suffix for filenames\n",
      "/home/luuk/Desktop/testing/BP_A2C/BP_A2C_agent.py:54: SyntaxWarning: \"is not\" with a literal. Did you mean \"!=\"?\n",
      "  suffix = \"btchFixmod_\"+\"\".join([str(x)+\"_\" if pair[0] is not 'nbsteps' and pair[0] is not 'rngseed' and pair[0] is not 'save_every' and pair[0] is not 'test_every' and pair[0] is not 'pe' else '' for pair in sorted(zip(params.keys(), params.values()), key=lambda x:x[0] ) for x in pair])[:-1] + \"_rngseed_\" + str(params['rngseed'])   # Turning the parameters into a nice suffix for filenames\n",
      "/home/luuk/Desktop/testing/BP_A2C/BP_A2C_agent.py:54: SyntaxWarning: \"is not\" with a literal. Did you mean \"!=\"?\n",
      "  suffix = \"btchFixmod_\"+\"\".join([str(x)+\"_\" if pair[0] is not 'nbsteps' and pair[0] is not 'rngseed' and pair[0] is not 'save_every' and pair[0] is not 'test_every' and pair[0] is not 'pe' else '' for pair in sorted(zip(params.keys(), params.values()), key=lambda x:x[0] ) for x in pair])[:-1] + \"_rngseed_\" + str(params['rngseed'])   # Turning the parameters into a nice suffix for filenames\n"
     ]
    }
   ],
   "source": [
    "import torch\n",
    "import numpy as np\n",
    "import random\n",
    "import os\n",
    "from datetime import date\n",
    "\n",
    "from backpropamine_A2C import BP_RNetwork\n",
    "from BP_A2C.BP_A2C_agent import A2C_Agent\n",
    "\n",
    "%matplotlib inline"
   ]
  },
  {
   "cell_type": "code",
   "execution_count": 2,
   "metadata": {},
   "outputs": [],
   "source": [
    "# Environment specific parameters\n",
    "env_name = 'CartPole-v0'\n",
    "n_runs = 5\n",
    "n_evaluations = 100\n",
    "max_steps = 200\n",
    "num_episodes = 1000\n",
    "\n",
    "device = torch.device(\"cuda:0\" if torch.cuda.is_available() else \"cpu\")"
   ]
  },
  {
   "cell_type": "code",
   "execution_count": 3,
   "metadata": {},
   "outputs": [],
   "source": [
    "# A2C hyperparameters\n",
    "entropy_coef = 0.03 \n",
    "value_pred_coef = 0.1 \n",
    "gammaR = 0.9\n",
    "max_grad_norm = 4.0\n",
    "batch_size = 128\n",
    "print_every = 10\n",
    "save_every = 50"
   ]
  },
  {
   "cell_type": "code",
   "execution_count": 4,
   "metadata": {},
   "outputs": [],
   "source": [
    "# Adam hyperparameters\n",
    "learning_rate = 1e-4 # For Adam optimizer\n",
    "l2_coef = 0"
   ]
  },
  {
   "cell_type": "code",
   "execution_count": 6,
   "metadata": {},
   "outputs": [],
   "source": [
    "training_seeds = np.load('rstdp_cartpole_stuff/seeds/training_seeds.npy')"
   ]
  },
  {
   "cell_type": "code",
   "execution_count": 7,
   "metadata": {},
   "outputs": [
    {
     "name": "stdout",
     "output_type": "stream",
     "text": [
      "Created Directory BP_A2C/results/a2c_result_3_20231012_entropycoef_0.03_valuepredcoef_0.1_batchsize_128_maxsteps_200_maxgradnorm_4.0_gammaR_0.9_l2coef_0_learningrate_0.0001_numepisodes_1000 to store the results in\n"
     ]
    }
   ],
   "source": [
    "# Create Results Directory\n",
    "dirs = os.listdir('./BP_A2C/results/')\n",
    "if not any('a2c_result' in d for d in dirs):\n",
    "    result_id = 1\n",
    "else:\n",
    "    results = [d for d in dirs if 'a2c_result' in d]\n",
    "    result_id = len(results) + 1\n",
    "\n",
    "# Get today's date and add it to the results directory\n",
    "d = date.today()\n",
    "result_dir = 'BP_A2C/results/a2c_result_' + str(result_id) + \"_{}_entropycoef_{}_valuepredcoef_{}_batchsize_{}_maxsteps_{}_\\\n",
    "maxgradnorm_{}_gammaR_{}_l2coef_{}_learningrate_{}_numepisodes_{}\".format(\n",
    "    str(d.year) + str(d.month) + str(d.day), entropy_coef, value_pred_coef, batch_size, max_steps, max_grad_norm, gammaR,\n",
    "    l2_coef, learning_rate, num_episodes)\n",
    "os.mkdir(result_dir)\n",
    "print('Created Directory {} to store the results in'.format(result_dir))"
   ]
  },
  {
   "cell_type": "code",
   "execution_count": null,
   "metadata": {},
   "outputs": [],
   "source": [
    "smoothed_scores_dqn_all = []\n",
    "dqn_completion_after = []\n",
    "\n",
    "for i_run in range(n_runs):\n",
    "    print(\"Run # {}\".format(i_run))\n",
    "    seed = int(training_seeds[i_run])\n",
    "    \n",
    "    torch.manual_seed(seed)\n",
    "    random.seed(seed)\n",
    "\n",
    "    agent_net = BP_RNetwork(4, 64, 2, seed).to(device)\n",
    "    \n",
    "    optimizer = torch.optim.Adam(agent_net.parameters(), lr=1.0*learning_rate, eps=1e-4, weight_decay=l2_coef)\n",
    "    agent = A2C_Agent(env_name, seed, agent_net, entropy_coef, value_pred_coef, gammaR,\n",
    "                      max_grad_norm, max_steps, batch_size, num_episodes, optimizer, print_every, save_every)\n",
    "\n",
    "    agent.train_agent()\n",
    "\n",
    "    # # policy_net = QNetwork(architecture, seed).to(device)\n",
    "    # # target_net = QNetwork(architecture, seed).to(device)\n",
    "    # policy_net = BP_RNetwork(4, 64, 2, seed).to(device)\n",
    "    # target_net = BP_RNetwork(4, 64, 2, seed).to(device)\n",
    "\n",
    "    # target_net.load_state_dict(policy_net.state_dict())\n",
    "\n",
    "    # # optimizer = optim.Adam(policy_net.parameters(), lr=learning_rate)\n",
    "    # optimizer = optim.Adam(policy_net.parameters(), lr = learning_rate, weight_decay = l2_coef) \n",
    "    # agent = Agent(env_name, policy_net, target_net, architecture, batch_size,\n",
    "    #               replay_memory_size, discount_factor, eps_start, eps_end, eps_decay,\n",
    "    #               update_every, target_update_frequency, optimizer, learning_rate,\n",
    "    #               num_episodes, max_steps, i_run, result_dir, seed, tau)\n",
    "    \n",
    "    # smoothed_scores, scores, best_average, best_average_after = agent.train_agent()\n",
    "\n",
    "    # np.save(result_dir + '/scores_{}'.format(i_run), scores)\n",
    "    # np.save(result_dir + '/smoothed_scores_DQN_{}'.format(i_run), smoothed_scores)\n",
    "\n",
    "    # # save smoothed scores in list to plot later\n",
    "    # dqn_completion_after.append(best_average_after)\n",
    "    # smoothed_scores_dqn_all.append(smoothed_scores)\n",
    "    # print(\"\")"
   ]
  }
 ],
 "metadata": {
  "kernelspec": {
   "display_name": ".venv",
   "language": "python",
   "name": "python3"
  },
  "language_info": {
   "codemirror_mode": {
    "name": "ipython",
    "version": 3
   },
   "file_extension": ".py",
   "mimetype": "text/x-python",
   "name": "python",
   "nbconvert_exporter": "python",
   "pygments_lexer": "ipython3",
   "version": "3.8.10"
  }
 },
 "nbformat": 4,
 "nbformat_minor": 2
}
